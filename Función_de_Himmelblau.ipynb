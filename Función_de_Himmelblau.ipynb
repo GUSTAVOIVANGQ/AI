{
  "nbformat": 4,
  "nbformat_minor": 0,
  "metadata": {
    "colab": {
      "provenance": [],
      "authorship_tag": "ABX9TyMF7ZODYiS+CrOnjdZLi/QJ",
      "include_colab_link": true
    },
    "kernelspec": {
      "name": "python3",
      "display_name": "Python 3"
    },
    "language_info": {
      "name": "python"
    }
  },
  "cells": [
    {
      "cell_type": "markdown",
      "metadata": {
        "id": "view-in-github",
        "colab_type": "text"
      },
      "source": [
        "<a href=\"https://colab.research.google.com/github/GUSTAVOIVANGQ/AI/blob/main/Funci%C3%B3n_de_Himmelblau.ipynb\" target=\"_parent\"><img src=\"https://colab.research.google.com/assets/colab-badge.svg\" alt=\"Open In Colab\"/></a>"
      ]
    },
    {
      "cell_type": "code",
      "execution_count": 14,
      "metadata": {
        "colab": {
          "base_uri": "https://localhost:8080/"
        },
        "id": "BI6pFRO-EXK1",
        "outputId": "4f06191a-bfc9-4019-b2d0-ebcf50d2b6c7"
      },
      "outputs": [
        {
          "output_type": "stream",
          "name": "stdout",
          "text": [
            "Mínimo encontrado en x = -3.790000000000026, y = -3.2900000000000365\n",
            "Valor de la función: 0.0066536200000382045\n",
            "Mínimo encontrado en x = -2.7999999999999843, y = 3.1199999999999775\n",
            "Valor de la función: 0.005903360000025415\n",
            "Mínimo encontrado en x = 3.0099999999999794, y = 1.9800000000000009\n",
            "Valor de la función: 0.006452169999992478\n",
            "Mínimo encontrado en x = 3.579999999999967, y = -1.8699999999999999\n",
            "Valor de la función: 0.008786570000019912\n"
          ]
        }
      ],
      "source": [
        "import numpy as np\n",
        "import matplotlib.pyplot as plt\n",
        "from mpl_toolkits.mplot3d import Axes3D\n",
        "\n",
        "def a_estrella_himmelblau(inicio_x, inicio_y, objetivo_z, paso, max_iteraciones):\n",
        "    # Función de Himmelblau\n",
        "    def f(x, y):\n",
        "        return (x**2 + y - 11)**2 + (x + y**2 - 7)**2\n",
        "\n",
        "    # Heurística (distancia al valor objetivo)\n",
        "    def h(x, y):\n",
        "        return abs(f(x, y) - objetivo_z)\n",
        "\n",
        "    # Nodo inicial\n",
        "    inicio = (inicio_x, inicio_y)\n",
        "    f_inicio = f(inicio_x, inicio_y)\n",
        "\n",
        "    # Lista abierta y cerrada\n",
        "    abierta = [(f_inicio, 0, h(inicio_x, inicio_y), inicio)]\n",
        "    cerrada = set()\n",
        "\n",
        "    for _ in range(max_iteraciones):\n",
        "        if not abierta:\n",
        "            return None  # No se encontró solución\n",
        "\n",
        "        # Obtener el nodo con menor f = g + h\n",
        "        actual_f, actual_g, actual_h, (actual_x, actual_y) = min(abierta)\n",
        "        abierta.remove((actual_f, actual_g, actual_h, (actual_x, actual_y)))\n",
        "\n",
        "        # Verificar si hemos alcanzado el objetivo\n",
        "        if abs(actual_f - objetivo_z) < 1e-2:\n",
        "            return (actual_x, actual_y)\n",
        "\n",
        "        cerrada.add((actual_x, actual_y))\n",
        "\n",
        "        # Generar vecinos\n",
        "        for dx, dy in [(paso, 0), (-paso, 0), (0, paso), (0, -paso)]:\n",
        "            vecino_x, vecino_y = actual_x + dx, actual_y + dy\n",
        "            if (vecino_x, vecino_y) in cerrada:\n",
        "                continue\n",
        "\n",
        "            vecino_g = actual_g + paso\n",
        "            vecino_h = h(vecino_x, vecino_y)\n",
        "            vecino_f = f(vecino_x, vecino_y)\n",
        "\n",
        "            for i, (_, g, _, (x, y)) in enumerate(abierta):\n",
        "                if (x, y) == (vecino_x, vecino_y):\n",
        "                    if g <= vecino_g:\n",
        "                        break\n",
        "                    del abierta[i]\n",
        "                    continue\n",
        "            else:\n",
        "                abierta.append((vecino_f, vecino_g, vecino_h, (vecino_x, vecino_y)))\n",
        "\n",
        "    return None  # No se encontró solución en las iteraciones máximas\n",
        "\n",
        "# Uso del algoritmo\n",
        "inicio_x, inicio_y = -5, -5\n",
        "objetivo_z = 0  # Buscamos el mínimo global\n",
        "paso = 0.01\n",
        "max_iteraciones = 10000\n",
        "\n",
        "resultado = a_estrella_himmelblau(inicio_x, inicio_y, objetivo_z, paso, max_iteraciones)\n",
        "\n",
        "if resultado:\n",
        "    x, y = resultado\n",
        "    print(f\"Mínimo encontrado en x = {x}, y = {y}\")\n",
        "    print(f\"Valor de la función: {(x**2 + y - 11)**2 + (x + y**2 - 7)**2}\")\n",
        "else:\n",
        "    print(\"No se encontró una solución\")\n",
        "\n",
        "inicio_x, inicio_y = 0, 0\n",
        "objetivo_z = 0  # Buscamos el mínimo global\n",
        "paso = 0.01\n",
        "max_iteraciones = 10000\n",
        "\n",
        "resultado = a_estrella_himmelblau(inicio_x, inicio_y, objetivo_z, paso, max_iteraciones)\n",
        "\n",
        "if resultado:\n",
        "    x, y = resultado\n",
        "    print(f\"Mínimo encontrado en x = {x}, y = {y}\")\n",
        "    print(f\"Valor de la función: {(x**2 + y - 11)**2 + (x + y**2 - 7)**2}\")\n",
        "else:\n",
        "    print(\"No se encontró una solución\")\n",
        "\n",
        "\n",
        "inicio_x, inicio_y = 1, 1\n",
        "objetivo_z = 0  # Buscamos el mínimo global\n",
        "paso = 0.01\n",
        "max_iteraciones = 10000\n",
        "\n",
        "resultado = a_estrella_himmelblau(inicio_x, inicio_y, objetivo_z, paso, max_iteraciones)\n",
        "\n",
        "if resultado:\n",
        "    x, y = resultado\n",
        "    print(f\"Mínimo encontrado en x = {x}, y = {y}\")\n",
        "    print(f\"Valor de la función: {(x**2 + y - 11)**2 + (x + y**2 - 7)**2}\")\n",
        "else:\n",
        "    print(\"No se encontró una solución\")\n",
        "\n",
        "inicio_x, inicio_y = 1, -2\n",
        "objetivo_z = 0  # Buscamos el mínimo global\n",
        "paso = 0.01\n",
        "max_iteraciones = 10000\n",
        "\n",
        "resultado = a_estrella_himmelblau(inicio_x, inicio_y, objetivo_z, paso, max_iteraciones)\n",
        "\n",
        "if resultado:\n",
        "    x, y = resultado\n",
        "    print(f\"Mínimo encontrado en x = {x}, y = {y}\")\n",
        "    print(f\"Valor de la función: {(x**2 + y - 11)**2 + (x + y**2 - 7)**2}\")\n",
        "else:\n",
        "    print(\"No se encontró una solución\")\n"
      ]
    },
    {
      "cell_type": "code",
      "source": [
        "import numpy as np\n",
        "import matplotlib.pyplot as plt\n",
        "from mpl_toolkits.mplot3d import Axes3D\n",
        "\n",
        "# Define la función de Himmelblau\n",
        "def himmelblau(x, y):\n",
        "    return (x**2 + y - 11)**2 + (x + y**2 - 7)**2\n",
        "\n",
        "# Crea la malla de puntos para la gráfica\n",
        "x = np.arange(-6, 6, 0.1)\n",
        "y = np.arange(-6, 6, 0.1)\n",
        "X, Y = np.meshgrid(x, y)\n",
        "Z = himmelblau(X, Y)\n",
        "\n",
        "# Crea la figura 3D\n",
        "fig = plt.figure()\n",
        "ax = fig.add_subplot(111, projection='3d')\n",
        "\n",
        "# Grafica la función de Himmelblau\n",
        "ax.plot_surface(X, Y, Z, cmap='viridis')\n",
        "\n",
        "# Configura los ejes y el título\n",
        "ax.set_xlabel('x')\n",
        "ax.set_ylabel('y')\n",
        "ax.set_zlabel('z')\n",
        "ax.set_title('Función de Himmelblau')\n",
        "\n",
        "# Muestra la gráfica\n",
        "plt.show()"
      ],
      "metadata": {
        "colab": {
          "base_uri": "https://localhost:8080/",
          "height": 442
        },
        "id": "0kre0ibNujCQ",
        "outputId": "5cf05934-e9cf-4eaf-b811-8cddbdd83ec0"
      },
      "execution_count": 2,
      "outputs": [
        {
          "output_type": "error",
          "ename": "ValueError",
          "evalue": "Unknown projection '2d'",
          "traceback": [
            "\u001b[0;31m---------------------------------------------------------------------------\u001b[0m",
            "\u001b[0;31mKeyError\u001b[0m                                  Traceback (most recent call last)",
            "\u001b[0;32m/usr/local/lib/python3.10/dist-packages/matplotlib/projections/__init__.py\u001b[0m in \u001b[0;36mget_projection_class\u001b[0;34m(projection)\u001b[0m\n\u001b[1;32m    107\u001b[0m     \u001b[0;32mtry\u001b[0m\u001b[0;34m:\u001b[0m\u001b[0;34m\u001b[0m\u001b[0;34m\u001b[0m\u001b[0m\n\u001b[0;32m--> 108\u001b[0;31m         \u001b[0;32mreturn\u001b[0m \u001b[0mprojection_registry\u001b[0m\u001b[0;34m.\u001b[0m\u001b[0mget_projection_class\u001b[0m\u001b[0;34m(\u001b[0m\u001b[0mprojection\u001b[0m\u001b[0;34m)\u001b[0m\u001b[0;34m\u001b[0m\u001b[0;34m\u001b[0m\u001b[0m\n\u001b[0m\u001b[1;32m    109\u001b[0m     \u001b[0;32mexcept\u001b[0m \u001b[0mKeyError\u001b[0m \u001b[0;32mas\u001b[0m \u001b[0merr\u001b[0m\u001b[0;34m:\u001b[0m\u001b[0;34m\u001b[0m\u001b[0;34m\u001b[0m\u001b[0m\n",
            "\u001b[0;32m/usr/local/lib/python3.10/dist-packages/matplotlib/projections/__init__.py\u001b[0m in \u001b[0;36mget_projection_class\u001b[0;34m(self, name)\u001b[0m\n\u001b[1;32m     74\u001b[0m         \u001b[0;34m\"\"\"Get a projection class from its *name*.\"\"\"\u001b[0m\u001b[0;34m\u001b[0m\u001b[0;34m\u001b[0m\u001b[0m\n\u001b[0;32m---> 75\u001b[0;31m         \u001b[0;32mreturn\u001b[0m \u001b[0mself\u001b[0m\u001b[0;34m.\u001b[0m\u001b[0m_all_projection_types\u001b[0m\u001b[0;34m[\u001b[0m\u001b[0mname\u001b[0m\u001b[0;34m]\u001b[0m\u001b[0;34m\u001b[0m\u001b[0;34m\u001b[0m\u001b[0m\n\u001b[0m\u001b[1;32m     76\u001b[0m \u001b[0;34m\u001b[0m\u001b[0m\n",
            "\u001b[0;31mKeyError\u001b[0m: '2d'",
            "\nThe above exception was the direct cause of the following exception:\n",
            "\u001b[0;31mValueError\u001b[0m                                Traceback (most recent call last)",
            "\u001b[0;32m<ipython-input-2-acb1e11e6329>\u001b[0m in \u001b[0;36m<cell line: 17>\u001b[0;34m()\u001b[0m\n\u001b[1;32m     15\u001b[0m \u001b[0;31m# Crea la figura 3D\u001b[0m\u001b[0;34m\u001b[0m\u001b[0;34m\u001b[0m\u001b[0m\n\u001b[1;32m     16\u001b[0m \u001b[0mfig\u001b[0m \u001b[0;34m=\u001b[0m \u001b[0mplt\u001b[0m\u001b[0;34m.\u001b[0m\u001b[0mfigure\u001b[0m\u001b[0;34m(\u001b[0m\u001b[0;34m)\u001b[0m\u001b[0;34m\u001b[0m\u001b[0;34m\u001b[0m\u001b[0m\n\u001b[0;32m---> 17\u001b[0;31m \u001b[0max\u001b[0m \u001b[0;34m=\u001b[0m \u001b[0mfig\u001b[0m\u001b[0;34m.\u001b[0m\u001b[0madd_subplot\u001b[0m\u001b[0;34m(\u001b[0m\u001b[0;36m111\u001b[0m\u001b[0;34m,\u001b[0m \u001b[0mprojection\u001b[0m\u001b[0;34m=\u001b[0m\u001b[0;34m'2d'\u001b[0m\u001b[0;34m)\u001b[0m\u001b[0;34m\u001b[0m\u001b[0;34m\u001b[0m\u001b[0m\n\u001b[0m\u001b[1;32m     18\u001b[0m \u001b[0;34m\u001b[0m\u001b[0m\n\u001b[1;32m     19\u001b[0m \u001b[0;31m# Grafica la función de Himmelblau\u001b[0m\u001b[0;34m\u001b[0m\u001b[0;34m\u001b[0m\u001b[0m\n",
            "\u001b[0;32m/usr/local/lib/python3.10/dist-packages/matplotlib/figure.py\u001b[0m in \u001b[0;36madd_subplot\u001b[0;34m(self, *args, **kwargs)\u001b[0m\n\u001b[1;32m    753\u001b[0m                     and 100 <= args[0] <= 999):\n\u001b[1;32m    754\u001b[0m                 \u001b[0margs\u001b[0m \u001b[0;34m=\u001b[0m \u001b[0mtuple\u001b[0m\u001b[0;34m(\u001b[0m\u001b[0mmap\u001b[0m\u001b[0;34m(\u001b[0m\u001b[0mint\u001b[0m\u001b[0;34m,\u001b[0m \u001b[0mstr\u001b[0m\u001b[0;34m(\u001b[0m\u001b[0margs\u001b[0m\u001b[0;34m[\u001b[0m\u001b[0;36m0\u001b[0m\u001b[0;34m]\u001b[0m\u001b[0;34m)\u001b[0m\u001b[0;34m)\u001b[0m\u001b[0;34m)\u001b[0m\u001b[0;34m\u001b[0m\u001b[0;34m\u001b[0m\u001b[0m\n\u001b[0;32m--> 755\u001b[0;31m             projection_class, pkw = self._process_projection_requirements(\n\u001b[0m\u001b[1;32m    756\u001b[0m                 *args, **kwargs)\n\u001b[1;32m    757\u001b[0m             \u001b[0max\u001b[0m \u001b[0;34m=\u001b[0m \u001b[0mprojection_class\u001b[0m\u001b[0;34m(\u001b[0m\u001b[0mself\u001b[0m\u001b[0;34m,\u001b[0m \u001b[0;34m*\u001b[0m\u001b[0margs\u001b[0m\u001b[0;34m,\u001b[0m \u001b[0;34m**\u001b[0m\u001b[0mpkw\u001b[0m\u001b[0;34m)\u001b[0m\u001b[0;34m\u001b[0m\u001b[0;34m\u001b[0m\u001b[0m\n",
            "\u001b[0;32m/usr/local/lib/python3.10/dist-packages/matplotlib/figure.py\u001b[0m in \u001b[0;36m_process_projection_requirements\u001b[0;34m(self, axes_class, polar, projection, *args, **kwargs)\u001b[0m\n\u001b[1;32m   1687\u001b[0m \u001b[0;34m\u001b[0m\u001b[0m\n\u001b[1;32m   1688\u001b[0m             \u001b[0;32mif\u001b[0m \u001b[0misinstance\u001b[0m\u001b[0;34m(\u001b[0m\u001b[0mprojection\u001b[0m\u001b[0;34m,\u001b[0m \u001b[0mstr\u001b[0m\u001b[0;34m)\u001b[0m \u001b[0;32mor\u001b[0m \u001b[0mprojection\u001b[0m \u001b[0;32mis\u001b[0m \u001b[0;32mNone\u001b[0m\u001b[0;34m:\u001b[0m\u001b[0;34m\u001b[0m\u001b[0;34m\u001b[0m\u001b[0m\n\u001b[0;32m-> 1689\u001b[0;31m                 \u001b[0mprojection_class\u001b[0m \u001b[0;34m=\u001b[0m \u001b[0mprojections\u001b[0m\u001b[0;34m.\u001b[0m\u001b[0mget_projection_class\u001b[0m\u001b[0;34m(\u001b[0m\u001b[0mprojection\u001b[0m\u001b[0;34m)\u001b[0m\u001b[0;34m\u001b[0m\u001b[0;34m\u001b[0m\u001b[0m\n\u001b[0m\u001b[1;32m   1690\u001b[0m             \u001b[0;32melif\u001b[0m \u001b[0mhasattr\u001b[0m\u001b[0;34m(\u001b[0m\u001b[0mprojection\u001b[0m\u001b[0;34m,\u001b[0m \u001b[0;34m'_as_mpl_axes'\u001b[0m\u001b[0;34m)\u001b[0m\u001b[0;34m:\u001b[0m\u001b[0;34m\u001b[0m\u001b[0;34m\u001b[0m\u001b[0m\n\u001b[1;32m   1691\u001b[0m                 \u001b[0mprojection_class\u001b[0m\u001b[0;34m,\u001b[0m \u001b[0mextra_kwargs\u001b[0m \u001b[0;34m=\u001b[0m \u001b[0mprojection\u001b[0m\u001b[0;34m.\u001b[0m\u001b[0m_as_mpl_axes\u001b[0m\u001b[0;34m(\u001b[0m\u001b[0;34m)\u001b[0m\u001b[0;34m\u001b[0m\u001b[0;34m\u001b[0m\u001b[0m\n",
            "\u001b[0;32m/usr/local/lib/python3.10/dist-packages/matplotlib/projections/__init__.py\u001b[0m in \u001b[0;36mget_projection_class\u001b[0;34m(projection)\u001b[0m\n\u001b[1;32m    108\u001b[0m         \u001b[0;32mreturn\u001b[0m \u001b[0mprojection_registry\u001b[0m\u001b[0;34m.\u001b[0m\u001b[0mget_projection_class\u001b[0m\u001b[0;34m(\u001b[0m\u001b[0mprojection\u001b[0m\u001b[0;34m)\u001b[0m\u001b[0;34m\u001b[0m\u001b[0;34m\u001b[0m\u001b[0m\n\u001b[1;32m    109\u001b[0m     \u001b[0;32mexcept\u001b[0m \u001b[0mKeyError\u001b[0m \u001b[0;32mas\u001b[0m \u001b[0merr\u001b[0m\u001b[0;34m:\u001b[0m\u001b[0;34m\u001b[0m\u001b[0;34m\u001b[0m\u001b[0m\n\u001b[0;32m--> 110\u001b[0;31m         \u001b[0;32mraise\u001b[0m \u001b[0mValueError\u001b[0m\u001b[0;34m(\u001b[0m\u001b[0;34m\"Unknown projection %r\"\u001b[0m \u001b[0;34m%\u001b[0m \u001b[0mprojection\u001b[0m\u001b[0;34m)\u001b[0m \u001b[0;32mfrom\u001b[0m \u001b[0merr\u001b[0m\u001b[0;34m\u001b[0m\u001b[0;34m\u001b[0m\u001b[0m\n\u001b[0m\u001b[1;32m    111\u001b[0m \u001b[0;34m\u001b[0m\u001b[0m\n\u001b[1;32m    112\u001b[0m \u001b[0;34m\u001b[0m\u001b[0m\n",
            "\u001b[0;31mValueError\u001b[0m: Unknown projection '2d'"
          ]
        },
        {
          "output_type": "display_data",
          "data": {
            "text/plain": [
              "<Figure size 640x480 with 0 Axes>"
            ]
          },
          "metadata": {}
        }
      ]
    }
  ]
}