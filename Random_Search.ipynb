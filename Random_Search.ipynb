{
  "nbformat": 4,
  "nbformat_minor": 0,
  "metadata": {
    "colab": {
      "provenance": [],
      "authorship_tag": "ABX9TyMQMQBeCYn+BEKOtayzSN3q",
      "include_colab_link": true
    },
    "kernelspec": {
      "name": "python3",
      "display_name": "Python 3"
    },
    "language_info": {
      "name": "python"
    }
  },
  "cells": [
    {
      "cell_type": "markdown",
      "metadata": {
        "id": "view-in-github",
        "colab_type": "text"
      },
      "source": [
        "<a href=\"https://colab.research.google.com/github/GUSTAVOIVANGQ/AI/blob/main/Random_Search.ipynb\" target=\"_parent\"><img src=\"https://colab.research.google.com/assets/colab-badge.svg\" alt=\"Open In Colab\"/></a>"
      ]
    },
    {
      "cell_type": "code",
      "execution_count": null,
      "metadata": {
        "colab": {
          "base_uri": "https://localhost:8080/"
        },
        "id": "j2PYGVz38bBJ",
        "outputId": "4752508e-ce8e-46b2-d313-1d5033844054"
      },
      "outputs": [
        {
          "output_type": "stream",
          "name": "stdout",
          "text": [
            "Después de 10000 iteraciones:\n",
            "x = 2.982096\n",
            "y = 0.509562\n",
            "f(x, y) = 0.004590\n"
          ]
        }
      ],
      "source": [
        "import random\n",
        "import math\n",
        "\n",
        "def f(x, y):\n",
        "    return (1.5 - x + x*y)**2 + (2.25 - x + x*y**2)**2 + (2.625 - x + x*y**3)**2\n",
        "\n",
        "def busqueda_aleatoria(iteraciones):\n",
        "    mejor_x = mejor_y = 0\n",
        "    mejor_valor = float('inf')\n",
        "\n",
        "    for _ in range(iteraciones):\n",
        "        x = random.uniform(-4.5, 4.5)\n",
        "        y = random.uniform(-4.5, 4.5)\n",
        "        valor = f(x, y)\n",
        "\n",
        "        if valor < mejor_valor:\n",
        "            mejor_x, mejor_y, mejor_valor = x, y, valor\n",
        "\n",
        "    return mejor_x, mejor_y, mejor_valor\n",
        "\n",
        "# Ejecutar la búsqueda aleatoria\n",
        "iteraciones = 10000\n",
        "x, y, valor = busqueda_aleatoria(iteraciones)\n",
        "\n",
        "print(f\"Después de {iteraciones} iteraciones:\")\n",
        "print(f\"x = {x:.6f}\")\n",
        "print(f\"y = {y:.6f}\")\n",
        "print(f\"f(x, y) = {valor:.6f}\")"
      ]
    },
    {
      "cell_type": "code",
      "source": [
        "import random\n",
        "\n",
        "def crear_tablero():\n",
        "    return [[' ' for _ in range(4)] for _ in range(4)]\n",
        "\n",
        "def imprimir_tablero(tablero):\n",
        "    for fila in tablero:\n",
        "        print('|' + '|'.join(fila) + '|')\n",
        "    print()\n",
        "\n",
        "def hay_ganador(tablero, jugador):\n",
        "    # Verificar filas y columnas\n",
        "    for i in range(4):\n",
        "        if all(tablero[i][j] == jugador for j in range(4)) or \\\n",
        "           all(tablero[j][i] == jugador for j in range(4)):\n",
        "            return True\n",
        "\n",
        "    # Verificar diagonales\n",
        "    if all(tablero[i][i] == jugador for i in range(4)) or \\\n",
        "       all(tablero[i][3-i] == jugador for i in range(4)):\n",
        "        return True\n",
        "\n",
        "    return False\n",
        "\n",
        "def tablero_lleno(tablero):\n",
        "    return all(tablero[i][j] != ' ' for i in range(4) for j in range(4))\n",
        "\n",
        "def movimiento_jugador(tablero):\n",
        "    while True:\n",
        "        try:\n",
        "            fila = int(input(\"Ingresa el número de fila (0-3): \"))\n",
        "            columna = int(input(\"Ingresa el número de columna (0-3): \"))\n",
        "            if 0 <= fila < 4 and 0 <= columna < 4 and tablero[fila][columna] == ' ':\n",
        "                return fila, columna\n",
        "            else:\n",
        "                print(\"Movimiento inválido. Intenta de nuevo.\")\n",
        "        except ValueError:\n",
        "            print(\"Por favor, ingresa números válidos.\")\n",
        "\n",
        "def movimiento_computadora(tablero):\n",
        "    casillas_vacias = [(i, j) for i in range(4) for j in range(4) if tablero[i][j] == ' ']\n",
        "    return random.choice(casillas_vacias)\n",
        "\n",
        "def jugar_gato():\n",
        "    tablero = crear_tablero()\n",
        "    jugador_actual = 'X'\n",
        "\n",
        "    while True:\n",
        "        imprimir_tablero(tablero)\n",
        "\n",
        "        if jugador_actual == 'X':\n",
        "            fila, columna = movimiento_jugador(tablero)\n",
        "        else:\n",
        "            fila, columna = movimiento_computadora(tablero)\n",
        "            print(f\"La computadora elige: fila {fila}, columna {columna}\")\n",
        "\n",
        "        tablero[fila][columna] = jugador_actual\n",
        "\n",
        "        if hay_ganador(tablero, jugador_actual):\n",
        "            imprimir_tablero(tablero)\n",
        "            if jugador_actual == 'X':\n",
        "                print(\"¡Felicidades! Has ganado.\")\n",
        "            else:\n",
        "                print(\"La computadora ha ganado.\")\n",
        "            break\n",
        "\n",
        "        if tablero_lleno(tablero):\n",
        "            imprimir_tablero(tablero)\n",
        "            print(\"Es un empate.\")\n",
        "            break\n",
        "\n",
        "        jugador_actual = 'O' if jugador_actual == 'X' else 'X'\n",
        "\n",
        "if __name__ == \"__main__\":\n",
        "    jugar_gato()"
      ],
      "metadata": {
        "colab": {
          "base_uri": "https://localhost:8080/"
        },
        "id": "PmuUDYerDebp",
        "outputId": "5700feb7-b2d4-4c4f-ad13-62c0dcd677fa"
      },
      "execution_count": null,
      "outputs": [
        {
          "output_type": "stream",
          "name": "stdout",
          "text": [
            "| | | | |\n",
            "| | | | |\n",
            "| | | | |\n",
            "| | | | |\n",
            "\n",
            "Ingresa el número de fila (0-3): 1\n",
            "Ingresa el número de columna (0-3): 1\n",
            "| | | | |\n",
            "| |X| | |\n",
            "| | | | |\n",
            "| | | | |\n",
            "\n",
            "La computadora elige: fila 0, columna 0\n",
            "|O| | | |\n",
            "| |X| | |\n",
            "| | | | |\n",
            "| | | | |\n",
            "\n",
            "Ingresa el número de fila (0-3): 0\n",
            "Ingresa el número de columna (0-3): 0\n",
            "Movimiento inválido. Intenta de nuevo.\n",
            "Ingresa el número de fila (0-3): 0\n",
            "Ingresa el número de columna (0-3): 10\n",
            "Movimiento inválido. Intenta de nuevo.\n",
            "Ingresa el número de fila (0-3): 1\n",
            "Ingresa el número de columna (0-3): 2\n",
            "|O| | | |\n",
            "| |X|X| |\n",
            "| | | | |\n",
            "| | | | |\n",
            "\n",
            "La computadora elige: fila 2, columna 1\n",
            "|O| | | |\n",
            "| |X|X| |\n",
            "| |O| | |\n",
            "| | | | |\n",
            "\n",
            "Ingresa el número de fila (0-3): 1\n",
            "Ingresa el número de columna (0-3): 0\n",
            "|O| | | |\n",
            "|X|X|X| |\n",
            "| |O| | |\n",
            "| | | | |\n",
            "\n",
            "La computadora elige: fila 3, columna 0\n",
            "|O| | | |\n",
            "|X|X|X| |\n",
            "| |O| | |\n",
            "|O| | | |\n",
            "\n",
            "Ingresa el número de fila (0-3): 1\n",
            "Ingresa el número de columna (0-3): 3\n",
            "|O| | | |\n",
            "|X|X|X|X|\n",
            "| |O| | |\n",
            "|O| | | |\n",
            "\n",
            "¡Felicidades! Has ganado.\n"
          ]
        }
      ]
    },
    {
      "cell_type": "code",
      "source": [],
      "metadata": {
        "id": "WRvEFwW-Dg7b"
      },
      "execution_count": null,
      "outputs": []
    }
  ]
}